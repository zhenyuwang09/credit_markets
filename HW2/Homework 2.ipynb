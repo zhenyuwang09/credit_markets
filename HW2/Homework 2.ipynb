{
 "cells": [
  {
   "attachments": {},
   "cell_type": "markdown",
   "id": "3e013a68",
   "metadata": {},
   "source": [
    "# Homework 2\n",
    "\n",
    "## FINM 35700 - Spring 2023\n",
    "\n",
    "### UChicago Financial Mathematics\n",
    "\n",
    "* Alex Popovici\n",
    "* alex.popovici@uchicago.edu"
   ]
  },
  {
   "attachments": {},
   "cell_type": "markdown",
   "id": "97d4c3b4",
   "metadata": {},
   "source": [
    "This homework relies on:\n",
    "\n",
    "- the US government bonds symbology file `govt_symbology`, \n",
    "- the \"on-the-run\" treasuries data file `govt_on_the_run`,\n",
    "- the corporate  bonds symbology file `corp_symbology` and\n",
    "- the market data file `market_prices_eod`.\n"
   ]
  },
  {
   "attachments": {},
   "cell_type": "markdown",
   "id": "27e68a4e",
   "metadata": {},
   "source": [
    "# Problem 1: Constructing fixed rate bonds"
   ]
  },
  {
   "cell_type": "code",
   "execution_count": 1,
   "id": "5079f70e",
   "metadata": {},
   "outputs": [],
   "source": [
    "import QuantLib as ql\n",
    "import numpy as np\n",
    "import pandas as pd\n",
    "import datetime as dt\n",
    "\n",
    "# Use static calculation/valuation date of 2023-04-14, matching data available in the market prices EOD file\n",
    "calc_date = ql.Date(14, 4, 2023)\n",
    "ql.Settings.instance().evaluationDate = calc_date"
   ]
  },
  {
   "attachments": {},
   "cell_type": "markdown",
   "id": "e07bfd7c",
   "metadata": {},
   "source": [
    "## a. Prepare common symbology dataframe for fixed rate government and corporate bonds\n",
    "\n",
    "Load the `govt_symbology` and `corp_symbology` Excel files into one common dataframe, using the `corp_symbology` columns. Filter the dataframe and keep fixed rate bonds only: (cpn_type=\"FIXED\").\n"
   ]
  },
  {
   "attachments": {},
   "cell_type": "markdown",
   "id": "55572cf7",
   "metadata": {},
   "source": [
    "## b. Add function to construct generic fixed rate cashflow schedules from symbology data\n",
    "\n",
    "Use one row of the symbology dataframe as input  to the function. Use the helper function to convert a date string to a QuantLib date object."
   ]
  },
  {
   "cell_type": "code",
   "execution_count": 2,
   "id": "96bded3d",
   "metadata": {},
   "outputs": [],
   "source": [
    "def get_ql_date(date) -> ql.Date:\n",
    "    \"\"\"\n",
    "    convert dt.date to ql.Date\n",
    "    \"\"\"\n",
    "    if isinstance(date, dt.date):\n",
    "        return ql.Date(date.day, date.month, date.year)\n",
    "    elif isinstance(date, str):\n",
    "        date = dt.datetime.strptime(date, \"%Y-%m-%d\").date()\n",
    "        return ql.Date(date.day, date.month, date.year)\n",
    "    else:\n",
    "        raise ValueError(f\"to_qldate, {type(date)}, {date}\")"
   ]
  },
  {
   "cell_type": "code",
   "execution_count": 3,
   "id": "bf99732d",
   "metadata": {},
   "outputs": [],
   "source": [
    "def create_schedule_from_symbology(details: dict):\n",
    "    '''Create a QuantLib cashflow schedule from symbology details dictionary (usually one row of the symbology dataframe)\n",
    "    '''\n",
    "    # Create maturity from details['maturity']\n",
    "    maturity = ql.Date()    # use date helper function and update code !!!\n",
    "    \n",
    "    # Create acc_first from details['acc_first']\n",
    "    acc_first = ql.Date()   # use date helper function and update code !!!\n",
    "    \n",
    "    # Create calendar for Corp and Govt asset classes\n",
    "    calendar = ql.UnitedStates(ql.UnitedStates.GovernmentBond)\n",
    "    \n",
    "    # define period from details['cpn_freq'] ... can be hard-coded to 2 = semi-annual frequency\n",
    "    period = ql.Period(2)\n",
    "    \n",
    "    # business_day_convention\n",
    "    business_day_convention = ql.Unadjusted\n",
    "    \n",
    "    # termination_date_convention\n",
    "    termination_date_convention = ql.Unadjusted\n",
    "    \n",
    "    # date_generation\n",
    "    date_generation=ql.DateGeneration.Backward\n",
    "    \n",
    "    # Create schedule using ql.MakeSchedule interface (with keyword arguments)\n",
    "    schedule = ql.MakeSchedule(effectiveDate=acc_first,  # this may not be the same as the bond's start date\n",
    "                            terminationDate=maturity,\n",
    "                            tenor=period,\n",
    "                            calendar=calendar,\n",
    "                            convention=business_day_convention,\n",
    "                            terminalDateConvention=termination_date_convention,\n",
    "                            rule=date_generation,\n",
    "                            endOfMonth=True,\n",
    "                            firstDate=ql.Date(),\n",
    "                            nextToLastDate=ql.Date())\n",
    "    return schedule"
   ]
  },
  {
   "attachments": {},
   "cell_type": "markdown",
   "id": "7834d854",
   "metadata": {},
   "source": [
    "## c. Add function to construct generic fixed rate bond objects from symbology data\n",
    "\n",
    "Use one row of the symbology dataframe as input to the function. Use create_schedule_from_symbology() internally to create the cashflow schedule."
   ]
  },
  {
   "cell_type": "code",
   "execution_count": 4,
   "id": "c820515d",
   "metadata": {},
   "outputs": [],
   "source": [
    "def create_bond_from_symbology(details: dict):\n",
    "    '''Create a US fixed rate bond object from symbology details dictionary (usually one row of the symbology dataframe)\n",
    "    '''\n",
    "    \n",
    "     # Create day_count from details['dcc']\n",
    "     # For US Treasuries use ql.ActualActual(ql.ActualActual.ISMA)\n",
    "     # For US Corporates use ql.Thirty360(ql.Thirty360.USA)\n",
    "    day_count = ql.Thirty360(ql.Thirty360.USA)   # update code depending on dcc !!!\n",
    "    \n",
    "    # Create day_count from details['start_date']    \n",
    "    issue_date = ql.Date()    # use date helper function and update code !!!\n",
    "    \n",
    "    # Create days_settle from details['days_settle']\n",
    "    days_settle = int(float(details['days_settle']))\n",
    "\n",
    "    # Create days_settle from details['coupon']\n",
    "    coupon = float(details['coupon'])/100.\n",
    "\n",
    "    # Create cashflow schedule\n",
    "    schedule = create_schedule_from_symbology(details)\n",
    "    \n",
    "    face_value = 100\n",
    "    redemption = 100\n",
    "    \n",
    "    payment_convention = ql.Unadjusted\n",
    "        \n",
    "    # Create fixed rate bond object\n",
    "    fixed_rate_bond = ql.FixedRateBond(\n",
    "        days_settle,\n",
    "        face_value,\n",
    "        schedule,\n",
    "        [coupon],\n",
    "        day_count,\n",
    "        payment_convention,\n",
    "        redemption,\n",
    "        issue_date)        \n",
    "\n",
    "    return fixed_rate_bond\n"
   ]
  },
  {
   "attachments": {},
   "cell_type": "markdown",
   "id": "d24a0174",
   "metadata": {},
   "source": [
    "## d. Add function that returns a dataframe with (future) cash flows details for a bond object\n",
    "\n",
    "Use the \"Investigate Bond Cashflows\" section in the Quantlib introductory notebook as a template.\n",
    "\n",
    "The results dataframe should contain following columns:\n",
    "\n",
    "\n",
    "| CashFlowDate | CashFlowAmount | CashFlowYearFrac |\n",
    "|----------|-------|-------------|\n",
    "\n",
    "Pick one government and one corporate bond from symbology, create the bond objects and display the future cashflows."
   ]
  },
  {
   "cell_type": "code",
   "execution_count": 5,
   "id": "d9436b98",
   "metadata": {},
   "outputs": [],
   "source": [
    "def get_bond_cashflows(bond: ql.FixedRateBond, calc_date=ql.Date) -> pd.DataFrame:\n",
    "    '''Returns all future cashflows as of calc_date, i.e. with payment dates > calc_date.\n",
    "    '''    \n",
    "    \n",
    "    # update code!!!\n",
    "    cashflows_df = pd.DataFrame()\n",
    "    \n",
    "    return cashflows_df"
   ]
  },
  {
   "attachments": {},
   "cell_type": "markdown",
   "id": "88994748",
   "metadata": {},
   "source": [
    "# Problem 2: US Treasury yield curve calibration (On-The-Runs)"
   ]
  },
  {
   "attachments": {},
   "cell_type": "markdown",
   "id": "6a31f7a6",
   "metadata": {},
   "source": [
    "## a. Create the on-the-run US treasury bond objects\n",
    "\n",
    "Restrict the symbology + market data dataframe to on-the-run US treasury notes only (excluding Treasury Bills) and create the treasury bond objects.\n",
    "\n",
    "Extend the treasuries symbology dataframe with the following market data columns (code from Homework 1):\n",
    "\n",
    "\n",
    "| date | bid | ask | mid | bid_yield | ask_yield | mid_yield | term | TTM |\n",
    "|----------|-------|-------------|-----|----------|---------|---------|---------|---------|"
   ]
  },
  {
   "attachments": {},
   "cell_type": "markdown",
   "id": "530ec7ca",
   "metadata": {},
   "source": [
    "## b. Calibrate the on-the-run treasury yield curve (bootstrapping)\n",
    "The function below shows how to calibrate a smooth yield/discount factor curve from the on-the-run treasury dataframe. Calibrate the bid, ask and mid discount factor curves as of 2023-04-14."
   ]
  },
  {
   "cell_type": "code",
   "execution_count": 6,
   "id": "09888454",
   "metadata": {},
   "outputs": [],
   "source": [
    "def calibrate_yield_curve_from_frame(\n",
    "        calc_date: ql.Date,\n",
    "        treasury_details: pd.DataFrame,\n",
    "        price_quote_column: str):\n",
    "    '''Create a calibrated yield curve from a details dataframe which includes bid/ask/mid price quotes.\n",
    "    '''\n",
    "    ql.Settings.instance().evaluationDate = calc_date\n",
    "\n",
    "    # Sort dataframe by maturity\n",
    "    sorted_details_frame = treasury_details.sort_values(by='maturity')    \n",
    "    \n",
    "    # For US Treasuries use ql.ActualActual(ql.ActualActual.ISMA)\n",
    "    day_count = ql.ActualActual(ql.ActualActual.ISMA)\n",
    "\n",
    "    bond_helpers = []\n",
    "    \n",
    "    for index, row in sorted_details_frame.iterrows():\n",
    "        bond_object = create_bond_from_symbology(row)\n",
    "        \n",
    "        tsy_clean_price_quote = row[price_quote_column]\n",
    "        tsy_clean_price_handle = ql.QuoteHandle(ql.SimpleQuote(tsy_clean_price_quote))\n",
    "        \n",
    "        bond_helper = ql.BondHelper(tsy_clean_price_handle, bond_object)\n",
    "        bond_helpers.append(bond_helper)\n",
    "        \n",
    "    yield_curve = ql.PiecewiseLogCubicDiscount(calc_date, bond_helpers, day_count)\n",
    "    yield_curve.enableExtrapolation()\n",
    "    return yield_curve"
   ]
  },
  {
   "attachments": {},
   "cell_type": "markdown",
   "id": "c012c6d0",
   "metadata": {},
   "source": [
    "## c. Plot the calibrated US Treasury yield (zero rate) curves\n",
    "\n",
    "Create a graph/scatter plot of the newly computed mid yields by maturity."
   ]
  },
  {
   "attachments": {},
   "cell_type": "markdown",
   "id": "3928bcf3",
   "metadata": {},
   "source": [
    "## d. Plot calibrated discount factors\n",
    "\n",
    "Plot the discount factor curve up to the 30 years point, using a 6 months discretization grid."
   ]
  },
  {
   "attachments": {},
   "cell_type": "markdown",
   "id": "2faf5756",
   "metadata": {},
   "source": [
    "# Problem 3: Pricing and risk metrics for US Treasury bonds"
   ]
  },
  {
   "attachments": {},
   "cell_type": "markdown",
   "id": "7abd24b6",
   "metadata": {},
   "source": [
    "## a. US Treasury pricing on the calibrated discount factor curve\n",
    "\n",
    "Follow Section 5. \"Present Value Calculation (no credit risk)\" in the QuantLib introductory notebook to re-price the US on-the-run treasuries using the calibrated discount factor curve. \n",
    "\n",
    "You will need to switch the bond_engine to use the new on-the-run treasury yield curve:\n",
    "bond_engine = ql.DiscountingBondEngine(treasury_yield_curve_mid_handle)\n",
    "\n",
    "Extend the dataframe with the following computed columns for clean mid prices:\n",
    "\n",
    "\n",
    "| calc_mid |\n",
    "|---------------|\n",
    "\n",
    "\n",
    "To validate the calibration, compare the calculated clean mid prices to the original market mid prices."
   ]
  },
  {
   "attachments": {},
   "cell_type": "markdown",
   "id": "de37fc66",
   "metadata": {},
   "source": [
    "## b. Compute analytical DV01, Duration and Convexity for US on-the-run treasuries (using flat yield)\n",
    "\n",
    "Compute analytical DV01, Duration and Convexity metrics, as described in Section 9. \"Duration, Convexity and Z-Spread (flat yield model)\" in the QuantLib introductory notebook.\n",
    "\n",
    "Remember that DV01 = Dirty_Price * Duration. \n",
    "\n",
    "Extend the dataframe with the following calculated risk metrics:\n",
    "\n",
    "\n",
    "| dv01 | duration | convexity |\n",
    "|-------|-------|-------------|\n"
   ]
  },
  {
   "attachments": {},
   "cell_type": "markdown",
   "id": "74f1f3a3",
   "metadata": {},
   "source": [
    "## c. Compute scenario DV01, Duration and Convexity for US on-the-run treasuries (using calibrated yield curve)\n",
    "\n",
    "Compute the scenario DV01, Duration and Convexity metrics using +/-1bp interest rate shocks, as described in Section 6. \"Market Data Scenarios\" in the QuantLib introductory notebook.\n",
    "\n",
    "Remember that DV01 = Dirty_Price * Duration.\n",
    "\n",
    "Extend the dataframe with the following scenario sensitivities metrics:\n",
    "\n",
    "| scen_dv01 | scen_duration | scen_convexity |\n",
    "|-------|-------|-------------|\n",
    "\n"
   ]
  },
  {
   "attachments": {},
   "cell_type": "markdown",
   "id": "904f222d",
   "metadata": {},
   "source": [
    "# Problem 4: Pricing and risk metrics for corporate bonds"
   ]
  },
  {
   "attachments": {},
   "cell_type": "markdown",
   "id": "2b9f864d",
   "metadata": {},
   "source": [
    "## a. Create the on-the-run corporate bond objects\n",
    "\n",
    "Restrict the symbology dataframe to fixed rate corporate bonds only and create the corporate bond objects."
   ]
  },
  {
   "attachments": {},
   "cell_type": "markdown",
   "id": "7d6f3b19",
   "metadata": {},
   "source": [
    "## b. Compute analytical Yields and Z-Spreads\n",
    "\n",
    "Compute analytical Yields and Z-Spreads metrics, as described in Section 9. \"Duration, Convexity and Z-Spread (flat yield model)\" in the QuantLib introductory notebook.\n",
    "\n",
    "Extend the dataframe with the following calculated risk metrics:\n",
    "\n",
    "\n",
    "| calc_yield | calc_zspread |\n",
    "|-------|-------------|\n"
   ]
  },
  {
   "attachments": {},
   "cell_type": "markdown",
   "id": "3dc97c0f",
   "metadata": {},
   "source": [
    "## c. Validate Z-Spread computation for a few fixed rate corporate bonds\n",
    "\n",
    "Pick 3 corporate bonds (at your discretion) and use function below to re-price them using the calibrated flat z-spread. Follow the example in Section 9. \"Duration, Convexity and Z-Spread (flat yield model)\".\n",
    "\n",
    "Validate that you match the original market price, which were used as input to the z-Spread function.\n"
   ]
  },
  {
   "cell_type": "code",
   "execution_count": 7,
   "id": "05e3919f",
   "metadata": {},
   "outputs": [],
   "source": [
    "def calc_clean_price_with_zspread(fixed_rate_bond, yield_curve_handle, zspread):\n",
    "    zspread_quote = ql.SimpleQuote(zspread)\n",
    "    zspread_quote_handle = ql.QuoteHandle(zspread_quote)\n",
    "    yield_curve_bumped = ql.ZeroSpreadedTermStructure(yield_curve_handle, zspread_quote_handle, ql.Compounded, ql.Semiannual)\n",
    "    yield_curve_bumped_handle = ql.YieldTermStructureHandle(yield_curve_bumped)\n",
    "    \n",
    "    # Set Valuation engine\n",
    "    bond_engine = ql.DiscountingBondEngine(yield_curve_bumped_handle)\n",
    "    fixed_rate_bond.setPricingEngine(bond_engine)\n",
    "    bond_clean_price = fixed_rate_bond.cleanPrice()\n",
    "    return bond_clean_price\n"
   ]
  },
  {
   "attachments": {},
   "cell_type": "markdown",
   "id": "dbed4c00",
   "metadata": {},
   "source": [
    "## d. Compute Duration and Convexity for fixed rate corporate bonds (using flat yield)\n",
    "\n",
    "Compute analytical Duration and Convexity metrics, as described in Section 9. \"Duration, Convexity and Z-Spread (flat yield model)\" in the QuantLib introductory notebook.\n",
    "\n",
    "Extend the dataframe with the following calculated risk metrics:\n",
    "\n",
    "\n",
    "| calc_duration | calc_convexity |\n",
    "|-------|-------------|\n"
   ]
  }
 ],
 "metadata": {
  "hide_input": false,
  "kernelspec": {
   "display_name": "Python 3 (ipykernel)",
   "language": "python",
   "name": "python3"
  },
  "language_info": {
   "codemirror_mode": {
    "name": "ipython",
    "version": 3
   },
   "file_extension": ".py",
   "mimetype": "text/x-python",
   "name": "python",
   "nbconvert_exporter": "python",
   "pygments_lexer": "ipython3",
   "version": "3.8.2"
  }
 },
 "nbformat": 4,
 "nbformat_minor": 5
}
